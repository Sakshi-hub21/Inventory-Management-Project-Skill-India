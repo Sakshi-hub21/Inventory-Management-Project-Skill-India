{
 "cells": [
  {
   "cell_type": "markdown",
   "metadata": {},
   "source": [
    "# Storing and Reading Products"
   ]
  },
  {
   "cell_type": "code",
   "execution_count": 53,
   "metadata": {},
   "outputs": [],
   "source": [
    "import time\n",
    "import json"
   ]
  },
  {
   "cell_type": "code",
   "execution_count": 54,
   "metadata": {},
   "outputs": [
    {
     "data": {
      "text/plain": [
       "'Mon Sep  6 09:47:12 2021'"
      ]
     },
     "execution_count": 54,
     "metadata": {},
     "output_type": "execute_result"
    }
   ],
   "source": [
    "time.ctime()"
   ]
  },
  {
   "cell_type": "code",
   "execution_count": 55,
   "metadata": {},
   "outputs": [],
   "source": [
    "products={'5001':{'Name':'Chocolates Pack','Price':150,'Quantity':50,'Original Price':'170','Discount':'10%','Time':'Sun Sep  5 19:11:18 2021'},\n",
    "          '5002':{'Name':'Colgate','Price':70,'Quantity':50,'Original Price':'90','Discount':'10%','Time':'Sun Sep  5 19:12:18 2021'},\n",
    "          '5003':{'Name':'Lux','Price':70,'Quantity':50,'Original Price':'90','Discount':'10%','Time':'Sun Sep  5 19:13:18 2021'},\n",
    "          '5004':{'Name':'Amul','Price':70,'Quantity':50,'Original Price':'90','Discount':'10%','Time':'Sun Sep  5 19:20:18 2021'},\n",
    "          '5005':{'Name':'Horlicks','Price':80,'Quantity':50,'Original Price':'100','Discount':'10%','Time':'Sun Sep  5 20:28:18 2021'},\n",
    "          '5006':{'Name':'Dettol','Price':210,'Quantity':50,'Original Price':'250','Discount':'10%','Time':'Sun Sep  5 20:36:18 2021'},\n",
    "          '5007':{'Name':'Detergents','Price':200,'Quantity':50,'Original Price':'220','Discount':'10%','Time':'Sun Sep  5 21:20:18 2021'},\n",
    "          '5008':{'Name':'Handwash','Price':90,'Quantity':50,'Original Price':'110','Discount':'10%','Time':'Sun Sep  5 22:01:18 2021'},\n",
    "          '5009':{'Name':'Shampoo','Price':80,'Quantity':50,'Original Price':'100','Discount':'10%','Time':'Sun Sep  5 22:39:18 2021'},\n",
    "          '5010':{'Name':'Hair Oil','Price':50,'Quantity':50,'Original Price':'70','Discount':'10%','Time':'Sun Sep  5 22:45:18 2021'},\n",
    "          '5011':{'Name':'Mobile','Price':20000,'Quantity':50,'Original Price':'23000','Discount':'10%','Time':'Sun Sep  5 22:50:18 2021'},\n",
    "          '5012':{'Name':'Laptop','Price':70000,'Quantity':50,'Original Price':'73000','Discount':'10%','Time':'Sun Sep  5 22:52:18 2021'},\n",
    "          '5013':{'Name':'Ipad','Price':7000,'Quantity':50,'Original Price':'8000','Discount':'10%','Time':'Sun Sep  5 22:55:18 2021'},\n",
    "          '5014':{'Name':'TV','Price':50000,'Quantity':50,'Original Price':'55000','Discount':'10%','Time':'Sun Sep  5 22:58:18 2021'}}"
   ]
  },
  {
   "cell_type": "code",
   "execution_count": 56,
   "metadata": {},
   "outputs": [],
   "source": [
    "fd = open('record.json','r')\n",
    "r= fd.read()\n",
    "fd.close()"
   ]
  },
  {
   "cell_type": "code",
   "execution_count": 57,
   "metadata": {},
   "outputs": [],
   "source": [
    "products=json.dumps(products)"
   ]
  },
  {
   "cell_type": "code",
   "execution_count": 58,
   "metadata": {},
   "outputs": [],
   "source": [
    "fd = open('record.json','a')\n",
    "r= fd.write(products)\n",
    "fd.close()"
   ]
  },
  {
   "cell_type": "code",
   "execution_count": 59,
   "metadata": {},
   "outputs": [
    {
     "data": {
      "text/plain": [
       "'{\"5001\": {\"Name\": \"Chocolates Pack\", \"Price\": 150, \"Quantity\": 50, \"Original Price\": \"170\", \"Discount\": \"10%\", \"Time\": \"Sun Sep  5 19:11:18 2021\"}, \"5002\": {\"Name\": \"Colgate\", \"Price\": 70, \"Quantity\": 50, \"Original Price\": \"90\", \"Discount\": \"10%\", \"Time\": \"Sun Sep  5 19:12:18 2021\"}, \"5003\": {\"Name\": \"Lux\", \"Price\": 70, \"Quantity\": 50, \"Original Price\": \"90\", \"Discount\": \"10%\", \"Time\": \"Sun Sep  5 19:13:18 2021\"}, \"5004\": {\"Name\": \"Amul\", \"Price\": 70, \"Quantity\": 50, \"Original Price\": \"90\", \"Discount\": \"10%\", \"Time\": \"Sun Sep  5 19:20:18 2021\"}, \"5005\": {\"Name\": \"Horlicks\", \"Price\": 80, \"Quantity\": 50, \"Original Price\": \"100\", \"Discount\": \"10%\", \"Time\": \"Sun Sep  5 20:28:18 2021\"}, \"5006\": {\"Name\": \"Dettol\", \"Price\": 210, \"Quantity\": 50, \"Original Price\": \"250\", \"Discount\": \"10%\", \"Time\": \"Sun Sep  5 20:36:18 2021\"}, \"5007\": {\"Name\": \"Detergents\", \"Price\": 200, \"Quantity\": 50, \"Original Price\": \"220\", \"Discount\": \"10%\", \"Time\": \"Sun Sep  5 21:20:18 2021\"}, \"5008\": {\"Name\": \"Handwash\", \"Price\": 90, \"Quantity\": 50, \"Original Price\": \"110\", \"Discount\": \"10%\", \"Time\": \"Sun Sep  5 22:01:18 2021\"}, \"5009\": {\"Name\": \"Shampoo\", \"Price\": 80, \"Quantity\": 50, \"Original Price\": \"100\", \"Discount\": \"10%\", \"Time\": \"Sun Sep  5 22:39:18 2021\"}, \"5010\": {\"Name\": \"Hair Oil\", \"Price\": 50, \"Quantity\": 50, \"Original Price\": \"70\", \"Discount\": \"10%\", \"Time\": \"Sun Sep  5 22:45:18 2021\"}, \"5011\": {\"Name\": \"Mobile\", \"Price\": 20000, \"Quantity\": 50, \"Original Price\": \"23000\", \"Discount\": \"10%\", \"Time\": \"Sun Sep  5 22:50:18 2021\"}, \"5012\": {\"Name\": \"Laptop\", \"Price\": 70000, \"Quantity\": 50, \"Original Price\": \"73000\", \"Discount\": \"10%\", \"Time\": \"Sun Sep  5 22:52:18 2021\"}, \"5013\": {\"Name\": \"Ipad\", \"Price\": 7000, \"Quantity\": 50, \"Original Price\": \"8000\", \"Discount\": \"10%\", \"Time\": \"Sun Sep  5 22:55:18 2021\"}, \"5014\": {\"Name\": \"TV\", \"Price\": 50000, \"Quantity\": 50, \"Original Price\": \"55000\", \"Discount\": \"10%\", \"Time\": \"Sun Sep  5 22:58:18 2021\"}}'"
      ]
     },
     "execution_count": 59,
     "metadata": {},
     "output_type": "execute_result"
    }
   ],
   "source": [
    "products"
   ]
  },
  {
   "cell_type": "code",
   "execution_count": 60,
   "metadata": {},
   "outputs": [],
   "source": [
    "record = json.loads(products)"
   ]
  },
  {
   "cell_type": "code",
   "execution_count": 61,
   "metadata": {},
   "outputs": [
    {
     "data": {
      "text/plain": [
       "{'5001': {'Name': 'Chocolates Pack',\n",
       "  'Price': 150,\n",
       "  'Quantity': 50,\n",
       "  'Original Price': '170',\n",
       "  'Discount': '10%',\n",
       "  'Time': 'Sun Sep  5 19:11:18 2021'},\n",
       " '5002': {'Name': 'Colgate',\n",
       "  'Price': 70,\n",
       "  'Quantity': 50,\n",
       "  'Original Price': '90',\n",
       "  'Discount': '10%',\n",
       "  'Time': 'Sun Sep  5 19:12:18 2021'},\n",
       " '5003': {'Name': 'Lux',\n",
       "  'Price': 70,\n",
       "  'Quantity': 50,\n",
       "  'Original Price': '90',\n",
       "  'Discount': '10%',\n",
       "  'Time': 'Sun Sep  5 19:13:18 2021'},\n",
       " '5004': {'Name': 'Amul',\n",
       "  'Price': 70,\n",
       "  'Quantity': 50,\n",
       "  'Original Price': '90',\n",
       "  'Discount': '10%',\n",
       "  'Time': 'Sun Sep  5 19:20:18 2021'},\n",
       " '5005': {'Name': 'Horlicks',\n",
       "  'Price': 80,\n",
       "  'Quantity': 50,\n",
       "  'Original Price': '100',\n",
       "  'Discount': '10%',\n",
       "  'Time': 'Sun Sep  5 20:28:18 2021'},\n",
       " '5006': {'Name': 'Dettol',\n",
       "  'Price': 210,\n",
       "  'Quantity': 50,\n",
       "  'Original Price': '250',\n",
       "  'Discount': '10%',\n",
       "  'Time': 'Sun Sep  5 20:36:18 2021'},\n",
       " '5007': {'Name': 'Detergents',\n",
       "  'Price': 200,\n",
       "  'Quantity': 50,\n",
       "  'Original Price': '220',\n",
       "  'Discount': '10%',\n",
       "  'Time': 'Sun Sep  5 21:20:18 2021'},\n",
       " '5008': {'Name': 'Handwash',\n",
       "  'Price': 90,\n",
       "  'Quantity': 50,\n",
       "  'Original Price': '110',\n",
       "  'Discount': '10%',\n",
       "  'Time': 'Sun Sep  5 22:01:18 2021'},\n",
       " '5009': {'Name': 'Shampoo',\n",
       "  'Price': 80,\n",
       "  'Quantity': 50,\n",
       "  'Original Price': '100',\n",
       "  'Discount': '10%',\n",
       "  'Time': 'Sun Sep  5 22:39:18 2021'},\n",
       " '5010': {'Name': 'Hair Oil',\n",
       "  'Price': 50,\n",
       "  'Quantity': 50,\n",
       "  'Original Price': '70',\n",
       "  'Discount': '10%',\n",
       "  'Time': 'Sun Sep  5 22:45:18 2021'},\n",
       " '5011': {'Name': 'Mobile',\n",
       "  'Price': 20000,\n",
       "  'Quantity': 50,\n",
       "  'Original Price': '23000',\n",
       "  'Discount': '10%',\n",
       "  'Time': 'Sun Sep  5 22:50:18 2021'},\n",
       " '5012': {'Name': 'Laptop',\n",
       "  'Price': 70000,\n",
       "  'Quantity': 50,\n",
       "  'Original Price': '73000',\n",
       "  'Discount': '10%',\n",
       "  'Time': 'Sun Sep  5 22:52:18 2021'},\n",
       " '5013': {'Name': 'Ipad',\n",
       "  'Price': 7000,\n",
       "  'Quantity': 50,\n",
       "  'Original Price': '8000',\n",
       "  'Discount': '10%',\n",
       "  'Time': 'Sun Sep  5 22:55:18 2021'},\n",
       " '5014': {'Name': 'TV',\n",
       "  'Price': 50000,\n",
       "  'Quantity': 50,\n",
       "  'Original Price': '55000',\n",
       "  'Discount': '10%',\n",
       "  'Time': 'Sun Sep  5 22:58:18 2021'}}"
      ]
     },
     "execution_count": 61,
     "metadata": {},
     "output_type": "execute_result"
    }
   ],
   "source": [
    "record"
   ]
  },
  {
   "cell_type": "markdown",
   "metadata": {},
   "source": [
    "# Adding New Item"
   ]
  },
  {
   "cell_type": "code",
   "execution_count": 62,
   "metadata": {},
   "outputs": [
    {
     "name": "stdout",
     "output_type": "stream",
     "text": [
      "Enter product id:5015\n",
      "Enter product name:Chairs\n",
      "Enter product price:220\n",
      "Enter product quantity:50\n",
      "Enter product discount:10\n"
     ]
    }
   ],
   "source": [
    "id=str(input(\"Enter product id:\"))\n",
    "name=str(input(\"Enter product name:\"))\n",
    "price=int(input(\"Enter product price:\"))\n",
    "quantity=int(input(\"Enter product quantity:\"))\n",
    "discount=str(input(\"Enter product discount:\"))\n",
    "time1=time.ctime()"
   ]
  },
  {
   "cell_type": "code",
   "execution_count": 63,
   "metadata": {},
   "outputs": [],
   "source": [
    "record[id]={'Name':name,'Price':price,'Quantity':quantity,'Discount':discount,'Time':time1}"
   ]
  },
  {
   "cell_type": "code",
   "execution_count": 64,
   "metadata": {},
   "outputs": [],
   "source": [
    "new = json.dumps(record)"
   ]
  },
  {
   "cell_type": "code",
   "execution_count": 65,
   "metadata": {},
   "outputs": [],
   "source": [
    "fd = open('record.json','a')\n",
    "fd.write(new)\n",
    "fd.close()"
   ]
  },
  {
   "cell_type": "code",
   "execution_count": 66,
   "metadata": {},
   "outputs": [
    {
     "data": {
      "text/plain": [
       "{'5001': {'Name': 'Chocolates Pack',\n",
       "  'Price': 150,\n",
       "  'Quantity': 50,\n",
       "  'Original Price': '170',\n",
       "  'Discount': '10%',\n",
       "  'Time': 'Sun Sep  5 19:11:18 2021'},\n",
       " '5002': {'Name': 'Colgate',\n",
       "  'Price': 70,\n",
       "  'Quantity': 50,\n",
       "  'Original Price': '90',\n",
       "  'Discount': '10%',\n",
       "  'Time': 'Sun Sep  5 19:12:18 2021'},\n",
       " '5003': {'Name': 'Lux',\n",
       "  'Price': 70,\n",
       "  'Quantity': 50,\n",
       "  'Original Price': '90',\n",
       "  'Discount': '10%',\n",
       "  'Time': 'Sun Sep  5 19:13:18 2021'},\n",
       " '5004': {'Name': 'Amul',\n",
       "  'Price': 70,\n",
       "  'Quantity': 50,\n",
       "  'Original Price': '90',\n",
       "  'Discount': '10%',\n",
       "  'Time': 'Sun Sep  5 19:20:18 2021'},\n",
       " '5005': {'Name': 'Horlicks',\n",
       "  'Price': 80,\n",
       "  'Quantity': 50,\n",
       "  'Original Price': '100',\n",
       "  'Discount': '10%',\n",
       "  'Time': 'Sun Sep  5 20:28:18 2021'},\n",
       " '5006': {'Name': 'Dettol',\n",
       "  'Price': 210,\n",
       "  'Quantity': 50,\n",
       "  'Original Price': '250',\n",
       "  'Discount': '10%',\n",
       "  'Time': 'Sun Sep  5 20:36:18 2021'},\n",
       " '5007': {'Name': 'Detergents',\n",
       "  'Price': 200,\n",
       "  'Quantity': 50,\n",
       "  'Original Price': '220',\n",
       "  'Discount': '10%',\n",
       "  'Time': 'Sun Sep  5 21:20:18 2021'},\n",
       " '5008': {'Name': 'Handwash',\n",
       "  'Price': 90,\n",
       "  'Quantity': 50,\n",
       "  'Original Price': '110',\n",
       "  'Discount': '10%',\n",
       "  'Time': 'Sun Sep  5 22:01:18 2021'},\n",
       " '5009': {'Name': 'Shampoo',\n",
       "  'Price': 80,\n",
       "  'Quantity': 50,\n",
       "  'Original Price': '100',\n",
       "  'Discount': '10%',\n",
       "  'Time': 'Sun Sep  5 22:39:18 2021'},\n",
       " '5010': {'Name': 'Hair Oil',\n",
       "  'Price': 50,\n",
       "  'Quantity': 50,\n",
       "  'Original Price': '70',\n",
       "  'Discount': '10%',\n",
       "  'Time': 'Sun Sep  5 22:45:18 2021'},\n",
       " '5011': {'Name': 'Mobile',\n",
       "  'Price': 20000,\n",
       "  'Quantity': 50,\n",
       "  'Original Price': '23000',\n",
       "  'Discount': '10%',\n",
       "  'Time': 'Sun Sep  5 22:50:18 2021'},\n",
       " '5012': {'Name': 'Laptop',\n",
       "  'Price': 70000,\n",
       "  'Quantity': 50,\n",
       "  'Original Price': '73000',\n",
       "  'Discount': '10%',\n",
       "  'Time': 'Sun Sep  5 22:52:18 2021'},\n",
       " '5013': {'Name': 'Ipad',\n",
       "  'Price': 7000,\n",
       "  'Quantity': 50,\n",
       "  'Original Price': '8000',\n",
       "  'Discount': '10%',\n",
       "  'Time': 'Sun Sep  5 22:55:18 2021'},\n",
       " '5014': {'Name': 'TV',\n",
       "  'Price': 50000,\n",
       "  'Quantity': 50,\n",
       "  'Original Price': '55000',\n",
       "  'Discount': '10%',\n",
       "  'Time': 'Sun Sep  5 22:58:18 2021'},\n",
       " '5015': {'Name': 'Chairs',\n",
       "  'Price': 220,\n",
       "  'Quantity': 50,\n",
       "  'Discount': '10',\n",
       "  'Time': 'Mon Sep  6 09:47:49 2021'}}"
      ]
     },
     "execution_count": 66,
     "metadata": {},
     "output_type": "execute_result"
    }
   ],
   "source": [
    "record"
   ]
  },
  {
   "cell_type": "markdown",
   "metadata": {},
   "source": [
    "# Purchase Items"
   ]
  },
  {
   "cell_type": "code",
   "execution_count": 67,
   "metadata": {},
   "outputs": [
    {
     "name": "stdout",
     "output_type": "stream",
     "text": [
      "Enter product id:5006\n",
      "Enter product quantity:6\n"
     ]
    }
   ],
   "source": [
    "prod =str(input(\"Enter product id:\"))\n",
    "quan =int(input(\"Enter product quantity:\"))"
   ]
  },
  {
   "cell_type": "code",
   "execution_count": 68,
   "metadata": {},
   "outputs": [
    {
     "name": "stdout",
     "output_type": "stream",
     "text": [
      "********************************\n",
      "Bill Amount\n",
      "Products: Dettol\n",
      "Price of one product: 210\n",
      "Total Amount to be paid: 1260\n",
      "********************************\n"
     ]
    }
   ],
   "source": [
    "print(\"********************************\")\n",
    "print(\"Bill Amount\")\n",
    "print('Products:', record[prod]['Name'])\n",
    "print('Price of one product:', record[prod]['Price'])\n",
    "print('Total Amount to be paid:', record[prod]['Price'] * quan)\n",
    "print(\"********************************\")"
   ]
  },
  {
   "cell_type": "markdown",
   "metadata": {},
   "source": [
    "# Updating after purchase Items"
   ]
  },
  {
   "cell_type": "code",
   "execution_count": 69,
   "metadata": {},
   "outputs": [],
   "source": [
    "record[prod]['Quantity'] = record[prod]['Quantity'] - quan"
   ]
  },
  {
   "cell_type": "code",
   "execution_count": 70,
   "metadata": {},
   "outputs": [],
   "source": [
    "update=record[prod]['Quantity']"
   ]
  },
  {
   "cell_type": "code",
   "execution_count": 71,
   "metadata": {},
   "outputs": [],
   "source": [
    "fd = open('record.json','w')\n",
    "fd.write(str(update))\n",
    "fd.close()"
   ]
  },
  {
   "cell_type": "code",
   "execution_count": 72,
   "metadata": {},
   "outputs": [
    {
     "data": {
      "text/plain": [
       "{'Name': 'Dettol',\n",
       " 'Price': 210,\n",
       " 'Quantity': 44,\n",
       " 'Original Price': '250',\n",
       " 'Discount': '10%',\n",
       " 'Time': 'Sun Sep  5 20:36:18 2021'}"
      ]
     },
     "execution_count": 72,
     "metadata": {},
     "output_type": "execute_result"
    }
   ],
   "source": [
    "record[prod]"
   ]
  },
  {
   "cell_type": "markdown",
   "metadata": {},
   "source": [
    "# Deleting Items"
   ]
  },
  {
   "cell_type": "code",
   "execution_count": 31,
   "metadata": {},
   "outputs": [
    {
     "name": "stdout",
     "output_type": "stream",
     "text": [
      "Enter product id:5016\n"
     ]
    }
   ],
   "source": [
    "prod=str(input(\"Enter product id:\"))\n",
    "del record[prod]"
   ]
  },
  {
   "cell_type": "code",
   "execution_count": 32,
   "metadata": {},
   "outputs": [
    {
     "data": {
      "text/plain": [
       "{'5001': {'Name': 'Chocolates Pack',\n",
       "  'Price': 150,\n",
       "  'Quantity': 50,\n",
       "  'Original Price': '170',\n",
       "  'Discount': '10%',\n",
       "  'Time': 'Sun Sep  5 19:11:18 2021'},\n",
       " '5002': {'Name': 'Colgate',\n",
       "  'Price': 70,\n",
       "  'Quantity': 50,\n",
       "  'Original Price': '90',\n",
       "  'Discount': '10%',\n",
       "  'Time': 'Sun Sep  5 19:12:18 2021'},\n",
       " '5003': {'Name': 'Lux',\n",
       "  'Price': 70,\n",
       "  'Quantity': 50,\n",
       "  'Original Price': '90',\n",
       "  'Discount': '10%',\n",
       "  'Time': 'Sun Sep  5 19:13:18 2021'},\n",
       " '5004': {'Name': 'Amul',\n",
       "  'Price': 70,\n",
       "  'Quantity': 50,\n",
       "  'Original Price': '90',\n",
       "  'Discount': '10%',\n",
       "  'Time': 'Sun Sep  5 19:20:18 2021'},\n",
       " '5005': {'Name': 'Horlicks',\n",
       "  'Price': 80,\n",
       "  'Quantity': 50,\n",
       "  'Original Price': '100',\n",
       "  'Discount': '10%',\n",
       "  'Time': 'Sun Sep  5 20:28:18 2021'},\n",
       " '5006': {'Name': 'Dettol',\n",
       "  'Price': 210,\n",
       "  'Quantity': 47,\n",
       "  'Original Price': '250',\n",
       "  'Discount': '10%',\n",
       "  'Time': 'Sun Sep  5 20:36:18 2021'},\n",
       " '5007': {'Name': 'Detergents',\n",
       "  'Price': 200,\n",
       "  'Quantity': 50,\n",
       "  'Original Price': '220',\n",
       "  'Discount': '10%',\n",
       "  'Time': 'Sun Sep  5 21:20:18 2021'},\n",
       " '5008': {'Name': 'Handwash',\n",
       "  'Price': 90,\n",
       "  'Quantity': 50,\n",
       "  'Original Price': '110',\n",
       "  'Discount': '10%',\n",
       "  'Time': 'Sun Sep  5 22:01:18 2021'},\n",
       " '5009': {'Name': 'Shampoo',\n",
       "  'Price': 80,\n",
       "  'Quantity': 50,\n",
       "  'Original Price': '100',\n",
       "  'Discount': '10%',\n",
       "  'Time': 'Sun Sep  5 22:39:18 2021'},\n",
       " '5010': {'Name': 'Hair Oil',\n",
       "  'Price': 50,\n",
       "  'Quantity': 50,\n",
       "  'Original Price': '70',\n",
       "  'Discount': '10%',\n",
       "  'Time': 'Sun Sep  5 22:45:18 2021'},\n",
       " '5011': {'Name': 'Mobile',\n",
       "  'Price': 20000,\n",
       "  'Quantity': 50,\n",
       "  'Original Price': '23000',\n",
       "  'Discount': '10%',\n",
       "  'Time': 'Sun Sep  5 22:50:18 2021'},\n",
       " '5012': {'Name': 'Laptop',\n",
       "  'Price': 70000,\n",
       "  'Quantity': 50,\n",
       "  'Original Price': '73000',\n",
       "  'Discount': '10%',\n",
       "  'Time': 'Sun Sep  5 22:52:18 2021'},\n",
       " '5013': {'Name': 'Ipad',\n",
       "  'Price': 7000,\n",
       "  'Quantity': 50,\n",
       "  'Original Price': '8000',\n",
       "  'Discount': '10%',\n",
       "  'Time': 'Sun Sep  5 22:55:18 2021'},\n",
       " '5014': {'Name': 'TV',\n",
       "  'Price': 50000,\n",
       "  'Quantity': 50,\n",
       "  'Original Price': '55000',\n",
       "  'Discount': '10%',\n",
       "  'Time': 'Sun Sep  5 22:58:18 2021'},\n",
       " '5015': {'Name': 'Chairs',\n",
       "  'Price': 250,\n",
       "  'Quantity': 50,\n",
       "  'Discount': '10',\n",
       "  'Time': 'Mon Sep  6 09:40:10 2021'}}"
      ]
     },
     "execution_count": 32,
     "metadata": {},
     "output_type": "execute_result"
    }
   ],
   "source": [
    "record"
   ]
  },
  {
   "cell_type": "markdown",
   "metadata": {},
   "source": [
    "# Sales"
   ]
  },
  {
   "cell_type": "code",
   "execution_count": 109,
   "metadata": {},
   "outputs": [
    {
     "data": {
      "text/plain": [
       "{'ID': '5006', 'Quantity': 6, 'Amount': 1260}"
      ]
     },
     "execution_count": 109,
     "metadata": {},
     "output_type": "execute_result"
    }
   ],
   "source": [
    "{'ID' : prod, 'Quantity' : quan, 'Amount': record[prod]['Price'] * quan}"
   ]
  },
  {
   "cell_type": "code",
   "execution_count": 91,
   "metadata": {},
   "outputs": [],
   "source": [
    "#sale={1 :{'ID' : prod, 'Quantity' : quan, 'Amount': record[prod]['Price'] * quan}}"
   ]
  },
  {
   "cell_type": "code",
   "execution_count": 111,
   "metadata": {},
   "outputs": [],
   "source": [
    "sales={(len(sale.keys()) + 1): {'ID' :prod,'Name':record[prod]['Name'],'Quantity' : quan, 'Amount': record[prod]['Price'] * quan}}"
   ]
  },
  {
   "cell_type": "code",
   "execution_count": 112,
   "metadata": {},
   "outputs": [],
   "source": [
    "sales1=json.dumps(sales)"
   ]
  },
  {
   "cell_type": "code",
   "execution_count": 113,
   "metadata": {},
   "outputs": [],
   "source": [
    "fd1 =open(\"Sales.json\",'a')\n",
    "fd1.write(sales1)\n",
    "fd1.close()"
   ]
  },
  {
   "cell_type": "code",
   "execution_count": 114,
   "metadata": {},
   "outputs": [],
   "source": [
    "fd1.close()"
   ]
  },
  {
   "cell_type": "code",
   "execution_count": 115,
   "metadata": {},
   "outputs": [
    {
     "data": {
      "text/plain": [
       "'{\"1\": {\"ID\": \"5014\", \"Quantity\": 5, \"Amount\": 250000}}\\n{\"1\": {\"ID\": \"5006\", \"Quantity\": 6, \"Amount\": 1260}}{\"1\": {\"ID\": \"5006\", \"Quantity\": 6, \"Amount\": 1260}}{\"2\": {\"ID\": \"5006\", \"Name\": \"Dettol\", \"Quantity\": 6, \"Amount\": 1260}}'"
      ]
     },
     "execution_count": 115,
     "metadata": {},
     "output_type": "execute_result"
    }
   ],
   "source": [
    "fd1 =open(\"Sales.json\",'r')\n",
    "fd1.read()"
   ]
  },
  {
   "cell_type": "code",
   "execution_count": null,
   "metadata": {},
   "outputs": [],
   "source": []
  }
 ],
 "metadata": {
  "kernelspec": {
   "display_name": "Python 3",
   "language": "python",
   "name": "python3"
  },
  "language_info": {
   "codemirror_mode": {
    "name": "ipython",
    "version": 3
   },
   "file_extension": ".py",
   "mimetype": "text/x-python",
   "name": "python",
   "nbconvert_exporter": "python",
   "pygments_lexer": "ipython3",
   "version": "3.8.5"
  }
 },
 "nbformat": 4,
 "nbformat_minor": 4
}
